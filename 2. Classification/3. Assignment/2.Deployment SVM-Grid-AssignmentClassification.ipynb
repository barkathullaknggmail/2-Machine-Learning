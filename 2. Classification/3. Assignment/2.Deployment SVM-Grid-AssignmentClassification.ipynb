{
 "cells": [
  {
   "cell_type": "code",
   "execution_count": 5,
   "id": "edafb628-585f-4145-8ae9-a51cf21a6725",
   "metadata": {},
   "outputs": [],
   "source": [
    "import pickle\n",
    "load_model=pickle.load(open(\"Finalized_Model_SVC_Assignment.sav\",'rb'))"
   ]
  },
  {
   "cell_type": "code",
   "execution_count": 7,
   "id": "c8b3036d-dc66-4234-bb40-5e1edb61f04a",
   "metadata": {},
   "outputs": [
    {
     "name": "stdin",
     "output_type": "stream",
     "text": [
      "Age 35\n",
      "bp 89\n",
      "al 3\n",
      "su 0\n",
      "bgr 148\n",
      "bu 59\n",
      "sc 4\n",
      "sod 141\n",
      "pot 5\n",
      "hrmo 16\n",
      "pcv 48\n",
      "WC 8500\n",
      "RC 5\n",
      "sg_b 1\n",
      "sg_c 0\n",
      "sg_d 0\n",
      "sg_e 0\n",
      "rbc_normal 1\n",
      "pc_normal 1\n",
      "pcc_present 0\n",
      "ba_present 0\n",
      "htn_yes 1\n",
      "dm_yes 1\n",
      "cad_yes 0\n",
      "appet_yes 1\n",
      "pe_yes 1\n",
      "ane_y 0\n"
     ]
    }
   ],
   "source": [
    "age = int(input(\"Age\"))\n",
    "bp = int(input(\"bp\"))\n",
    "al = int(input(\"al\"))\n",
    "su  = int(input(\"su\"))\n",
    "bgr= int(input(\"bgr\"))\n",
    "bu = int(input(\"bu\"))\n",
    "sc = int(input(\"sc\"))\n",
    "sod = int(input(\"sod\"))\n",
    "pot = int(input(\"pot\"))\n",
    "hrmo = int(input(\"hrmo\"))\n",
    "pcv = int(input(\"pcv\"))\n",
    "wc = int(input(\"WC\"))\n",
    "RC = int(input(\"RC\"))\n",
    "Sg_b = int(input(\"sg_b\"))\n",
    "sb_c = int(input(\"sg_c\"))\n",
    "sg_d = int(input(\"sg_d\"))\n",
    "sg_e = int(input(\"sg_e\"))\n",
    "rbc_n = int(input(\"rbc_normal\"))\n",
    "pc_n  = int(input(\"pc_normal\"))\n",
    "pcc_p = int(input(\"pcc_present\"))\n",
    "ba_p = int(input(\"ba_present\"))\n",
    "htn_y = int(input(\"htn_yes\"))\n",
    "dm_y = int(input(\"dm_yes\"))\n",
    "cad_y = int(input(\"cad_yes\"))\n",
    "ppet_y = int(input(\"appet_yes\"))\n",
    "pe_y = int(input(\"pe_yes\"))\n",
    "ane_y = int(input(\"ane_y\"))"
   ]
  },
  {
   "cell_type": "code",
   "execution_count": 9,
   "id": "0fa624ed-8b9f-4a25-bfed-cb31d28cc907",
   "metadata": {},
   "outputs": [
    {
     "data": {
      "text/plain": [
       "array([False])"
      ]
     },
     "execution_count": 9,
     "metadata": {},
     "output_type": "execute_result"
    }
   ],
   "source": [
    "result=load_model.predict([[age,bp,al,su,bgr,bu,sc,sod,pot,hrmo,pcv,wc,RC,\n",
    "                            Sg_b, sb_c,sg_d ,sg_e ,rbc_n,pc_n,pcc_p,ba_p,\n",
    "                            htn_y,dm_y,cad_y,ppet_y,pe_y,ane_y]])\n",
    "result"
   ]
  },
  {
   "cell_type": "code",
   "execution_count": 12,
   "id": "646589d7-e1f3-4eba-8198-c355d19cdd18",
   "metadata": {},
   "outputs": [
    {
     "data": {
      "text/plain": [
       "array([False])"
      ]
     },
     "execution_count": 12,
     "metadata": {},
     "output_type": "execute_result"
    }
   ],
   "source": [
    "Future_Prediction=load_model.predict([[20,70,1,0,125,49,2,145,3.9,15.4,48,5900,5.2,1,0,0,0,1,1,0,1,0,1,1,0,1,1]])\n",
    "Future_Prediction"
   ]
  },
  {
   "cell_type": "code",
   "execution_count": null,
   "id": "5896fc26-2944-4150-b2ba-52c464e5dc01",
   "metadata": {},
   "outputs": [],
   "source": []
  }
 ],
 "metadata": {
  "kernelspec": {
   "display_name": "Python 3 (ipykernel)",
   "language": "python",
   "name": "python3"
  },
  "language_info": {
   "codemirror_mode": {
    "name": "ipython",
    "version": 3
   },
   "file_extension": ".py",
   "mimetype": "text/x-python",
   "name": "python",
   "nbconvert_exporter": "python",
   "pygments_lexer": "ipython3",
   "version": "3.12.7"
  }
 },
 "nbformat": 4,
 "nbformat_minor": 5
}
